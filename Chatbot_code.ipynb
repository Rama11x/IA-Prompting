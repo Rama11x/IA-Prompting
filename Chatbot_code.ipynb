{
 "cells": [
  {
   "cell_type": "raw",
   "id": "f8bc26d3-b12c-44f0-862b-156a7874e20e",
   "metadata": {},
   "source": [
    "Implementacion del codigo"
   ]
  },
  {
   "cell_type": "code",
   "execution_count": 1,
   "id": "ded1f4e8-57ee-4e8d-a003-833147d3495a",
   "metadata": {},
   "outputs": [],
   "source": [
    "import openai"
   ]
  },
  {
   "cell_type": "code",
   "execution_count": 2,
   "id": "23a5e336-1b71-441b-aa3e-356c3756cfda",
   "metadata": {},
   "outputs": [],
   "source": [
    "def chatbot_response(category, user_input):\n",
    "    openai.api_key = "
   ]
  },
  {
   "cell_type": "code",
   "execution_count": 3,
   "id": "c91b429c-d87d-42e6-a032-0782c73f386f",
   "metadata": {},
   "outputs": [],
   "source": [
    "prompts = {\n",
    "        \"horarios\": \"Eres un asistente de una tienda. Responde con el horario de atención: 'Estamos abiertos de 9 AM a 8 PM. Nos ubicamos en Av. Principal 123.' Si te preguntan por días específicos, responde con precisión, por ejemplo: 'Los domingos abrimos de 10 AM a 6 PM.'\",\n",
    "        \"productos\": \"Eres un asistente de ventas. Responde si el producto está disponible en esta lista: ['laptops', 'teléfonos', 'audífonos']. Si no, sugiere un producto similar. Ejemplo: Cliente: '¿Tienen impresoras?' Respuesta: 'No, pero te recomiendo nuestras laptops con función de impresión remota.'\",\n",
    "        \"devoluciones\": \"Eres un asistente de servicio al cliente. Explica la política de devolución de forma clara y estructurada: 1. 'Puedes devolver un producto dentro de los 30 días con el ticket de compra.' 2. 'El producto debe estar en su empaque original y sin daños.' 3. 'Para más información, contáctanos en soporte@tienda.com.' Usa frases cortas y un tono amable.\"\n",
    "    }"
   ]
  },
  {
   "cell_type": "raw",
   "id": "0fedb991-dd7f-4235-b21a-a7261286ad9d",
   "metadata": {},
   "source": [
    "category = input(\"Ingresa la categoría (horarios, productos, devoluciones): \").strip().lower()\n",
    "prompt = prompts.get(category, \"No tengo información sobre eso, por favor intenta con otra pregunta.\")"
   ]
  },
  {
   "cell_type": "code",
   "execution_count": 4,
   "id": "def97725-fa6b-4148-a018-2b41c54e8f5d",
   "metadata": {},
   "outputs": [],
   "source": [
    "  messages = [\n",
    "        {\"role\": \"system\", \"content\": \"prompt\"},\n",
    "        {\"role\": \"user\", \"content\": \"user_input\"}\n",
    "    ]"
   ]
  },
  {
   "cell_type": "code",
   "execution_count": 5,
   "id": "20555264-7242-4f4c-8668-b193a7ce7aac",
   "metadata": {},
   "outputs": [
    {
     "ename": "IndentationError",
     "evalue": "unexpected indent (1270664917.py, line 6)",
     "output_type": "error",
     "traceback": [
      "\u001b[1;36m  Cell \u001b[1;32mIn[5], line 6\u001b[1;36m\u001b[0m\n\u001b[1;33m    return response['choices'][0]['message']['content']\u001b[0m\n\u001b[1;37m    ^\u001b[0m\n\u001b[1;31mIndentationError\u001b[0m\u001b[1;31m:\u001b[0m unexpected indent\n"
     ]
    }
   ],
   "source": [
    "response = openai.ChatCompletion.create(\n",
    "        model=\"gpt-3.5-turbo\",\n",
    "        messages=messages\n",
    "    )\n",
    "    \n",
    "    return response['choices'][0]['message']['content']"
   ]
  },
  {
   "cell_type": "code",
   "execution_count": 6,
   "id": "7b7f3dce-7cda-4fc4-acb3-52ee5ce9f86c",
   "metadata": {},
   "outputs": [],
   "source": [
    "# Interfaz sencilla para pruebas con memoria de contexto\n",
    "conversation_history = []"
   ]
  },
  {
   "cell_type": "code",
   "execution_count": 7,
   "id": "e987b57b-f536-4214-bd22-7e420fe171a2",
   "metadata": {},
   "outputs": [],
   "source": [
    "def run_tests():\n",
    "    test_cases = [\n",
    "        {\"category\": \"horarios\", \"input\": \"¿Cuáles son los horarios?\", \"expected\": \"Estamos abiertos de 9 AM a 8 PM.\"},\n",
    "        {\"category\": \"productos\", \"input\": \"¿Tienen audífonos?\", \"expected\": \"Sí, tenemos audífonos en stock.\"},\n",
    "        {\"category\": \"productos\", \"input\": \"¿Tienen impresoras?\", \"expected\": \"No, pero te recomiendo nuestras laptops con función de impresión remota.\"},\n",
    "        {\"category\": \"devoluciones\", \"input\": \"¿Cómo funcionan las devoluciones?\", \"expected\": \"Puedes devolver un producto dentro de los 30 días con el ticket de compra.\"}\n",
    "    ]"
   ]
  },
  {
   "cell_type": "code",
   "execution_count": 8,
   "id": "e9c2db91-4131-4d2c-9f81-632fae90d888",
   "metadata": {},
   "outputs": [
    {
     "ename": "NameError",
     "evalue": "name 'test_cases' is not defined",
     "output_type": "error",
     "traceback": [
      "\u001b[1;31m---------------------------------------------------------------------------\u001b[0m",
      "\u001b[1;31mNameError\u001b[0m                                 Traceback (most recent call last)",
      "Cell \u001b[1;32mIn[8], line 1\u001b[0m\n\u001b[1;32m----> 1\u001b[0m \u001b[38;5;28;01mfor\u001b[39;00m test \u001b[38;5;129;01min\u001b[39;00m \u001b[43mtest_cases\u001b[49m:\n\u001b[0;32m      2\u001b[0m         output \u001b[38;5;241m=\u001b[39m chatbot_response(test[\u001b[38;5;124m\"\u001b[39m\u001b[38;5;124mcategory\u001b[39m\u001b[38;5;124m\"\u001b[39m], test[\u001b[38;5;124m\"\u001b[39m\u001b[38;5;124minput\u001b[39m\u001b[38;5;124m\"\u001b[39m])\n\u001b[0;32m      3\u001b[0m         \u001b[38;5;28mprint\u001b[39m(\u001b[38;5;124mf\u001b[39m\u001b[38;5;124m\"\u001b[39m\u001b[38;5;124mInput: \u001b[39m\u001b[38;5;132;01m{\u001b[39;00mtest[\u001b[38;5;124m'\u001b[39m\u001b[38;5;124minput\u001b[39m\u001b[38;5;124m'\u001b[39m]\u001b[38;5;132;01m}\u001b[39;00m\u001b[38;5;124m\"\u001b[39m)\n",
      "\u001b[1;31mNameError\u001b[0m: name 'test_cases' is not defined"
     ]
    }
   ],
   "source": [
    "for test in test_cases:\n",
    "        output = chatbot_response(test[\"category\"], test[\"input\"])\n",
    "        print(f\"Input: {test['input']}\")\n",
    "        print(f\"Output: {output}\")\n",
    "        print(f\"Expected: {test['expected']}\")\n",
    "        print(f\"Pass: {output.startswith(test['expected'])}\\n\")"
   ]
  },
  {
   "cell_type": "code",
   "execution_count": 9,
   "id": "51c517b1-4bd8-47d8-8e35-b9cd15ed9525",
   "metadata": {},
   "outputs": [
    {
     "name": "stdout",
     "output_type": "stream",
     "text": [
      "Ejecutando pruebas...\n"
     ]
    }
   ],
   "source": [
    "if __name__ == \"__main__\":\n",
    "    print(\"Ejecutando pruebas...\")\n",
    "    run_tests()"
   ]
  },
  {
   "cell_type": "code",
   "execution_count": 10,
   "id": "8a381094-00aa-4165-aeeb-6a91142986fe",
   "metadata": {},
   "outputs": [
    {
     "name": "stdout",
     "output_type": "stream",
     "text": [
      "Categorías disponibles: horarios, productos, devoluciones\n"
     ]
    },
    {
     "name": "stdin",
     "output_type": "stream",
     "text": [
      "Elige una categoría (o escribe 'salir' para terminar):  devoluciones\n",
      "Escribe tu pregunta:  como es la politica de devoluciones\n"
     ]
    },
    {
     "ename": "NameError",
     "evalue": "name 'sk' is not defined",
     "output_type": "error",
     "traceback": [
      "\u001b[1;31m---------------------------------------------------------------------------\u001b[0m",
      "\u001b[1;31mNameError\u001b[0m                                 Traceback (most recent call last)",
      "Cell \u001b[1;32mIn[10], line 9\u001b[0m\n\u001b[0;32m      6\u001b[0m pregunta_usuario \u001b[38;5;241m=\u001b[39m \u001b[38;5;28minput\u001b[39m(\u001b[38;5;124m\"\u001b[39m\u001b[38;5;124mEscribe tu pregunta: \u001b[39m\u001b[38;5;124m\"\u001b[39m)\n\u001b[0;32m      8\u001b[0m conversation_history\u001b[38;5;241m.\u001b[39mappend({\u001b[38;5;124m\"\u001b[39m\u001b[38;5;124mrole\u001b[39m\u001b[38;5;124m\"\u001b[39m: \u001b[38;5;124m\"\u001b[39m\u001b[38;5;124muser\u001b[39m\u001b[38;5;124m\"\u001b[39m, \u001b[38;5;124m\"\u001b[39m\u001b[38;5;124mcontent\u001b[39m\u001b[38;5;124m\"\u001b[39m: pregunta_usuario})\n\u001b[1;32m----> 9\u001b[0m respuesta \u001b[38;5;241m=\u001b[39m \u001b[43mchatbot_response\u001b[49m\u001b[43m(\u001b[49m\u001b[43mcategoria\u001b[49m\u001b[43m,\u001b[49m\u001b[43m \u001b[49m\u001b[43mpregunta_usuario\u001b[49m\u001b[43m)\u001b[49m\n\u001b[0;32m     11\u001b[0m conversation_history\u001b[38;5;241m.\u001b[39mappend({\u001b[38;5;124m\"\u001b[39m\u001b[38;5;124mrole\u001b[39m\u001b[38;5;124m\"\u001b[39m: \u001b[38;5;124m\"\u001b[39m\u001b[38;5;124massistant\u001b[39m\u001b[38;5;124m\"\u001b[39m, \u001b[38;5;124m\"\u001b[39m\u001b[38;5;124mcontent\u001b[39m\u001b[38;5;124m\"\u001b[39m: respuesta})\n\u001b[0;32m     12\u001b[0m \u001b[38;5;28mprint\u001b[39m(\u001b[38;5;124m\"\u001b[39m\u001b[38;5;124mChatbot:\u001b[39m\u001b[38;5;124m\"\u001b[39m, respuesta)\n",
      "Cell \u001b[1;32mIn[2], line 2\u001b[0m, in \u001b[0;36mchatbot_response\u001b[1;34m(category, user_input)\u001b[0m\n\u001b[0;32m      1\u001b[0m \u001b[38;5;28;01mdef\u001b[39;00m\u001b[38;5;250m \u001b[39m\u001b[38;5;21mchatbot_response\u001b[39m(category, user_input):\n\u001b[1;32m----> 2\u001b[0m     openai\u001b[38;5;241m.\u001b[39mapi_key \u001b[38;5;241m=\u001b[39m \u001b[43msk\u001b[49m\u001b[38;5;241m-\u001b[39mproj\u001b[38;5;241m-\u001b[39mALl\u001b[38;5;241m-\u001b[39mh7aChX4EL95JYV7DWiJwzO\u001b[38;5;241m-\u001b[39moo2L2vb4uS5i7IFWvR3ch13RC4hDF9IpXLfQzv86KRhhzqfT3BlbkFJa8sctdqF3J4SQ9ELkxhDCkU2Y\u001b[38;5;241m-\u001b[39mK6NjAtx18puCVGY0vqZnAWBuTNPlk4cTdvn9XI7tmW3SDl0A\n",
      "\u001b[1;31mNameError\u001b[0m: name 'sk' is not defined"
     ]
    }
   ],
   "source": [
    "    while True:\n",
    "        print(\"Categorías disponibles: horarios, productos, devoluciones\")\n",
    "        categoria = input(\"Elige una categoría (o escribe 'salir' para terminar): \")\n",
    "        if categoria.lower() == \"salir\":\n",
    "            break\n",
    "        pregunta_usuario = input(\"Escribe tu pregunta: \")\n",
    "        \n",
    "        conversation_history.append({\"role\": \"user\", \"content\": pregunta_usuario})\n",
    "        respuesta = chatbot_response(categoria, pregunta_usuario)\n",
    "        \n",
    "        conversation_history.append({\"role\": \"assistant\", \"content\": respuesta})\n",
    "        print(\"Chatbot:\", respuesta)"
   ]
  },
  {
   "cell_type": "code",
   "execution_count": null,
   "id": "c48d193c-ad28-4fe8-8711-4874c7b4f205",
   "metadata": {},
   "outputs": [],
   "source": []
  }
 ],
 "metadata": {
  "kernelspec": {
   "display_name": "Python 3 (ipykernel)",
   "language": "python",
   "name": "python3"
  },
  "language_info": {
   "codemirror_mode": {
    "name": "ipython",
    "version": 3
   },
   "file_extension": ".py",
   "mimetype": "text/x-python",
   "name": "python",
   "nbconvert_exporter": "python",
   "pygments_lexer": "ipython3",
   "version": "3.10.16"
  }
 },
 "nbformat": 4,
 "nbformat_minor": 5
}
